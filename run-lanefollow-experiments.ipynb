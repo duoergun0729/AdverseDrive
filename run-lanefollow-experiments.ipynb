{
 "cells": [
  {
   "cell_type": "markdown",
   "metadata": {},
   "source": [
    "## Running Lanefollow Experiments\n",
    "In this notebook, we will step through the process of searching for attacks for a **particular lanefollow scene**. By lanefollow, we mean that the imitation learning network is trying to *continue driving in the current lane and is not at an intersection*. Our goal is to find attacks that cause the self-driving agent to incur an infraction (offroad or opposite lane) or collision. The three scenarios (tasks) available are:\n",
    "1. Lanefollow on a right curve (turn-right)\n",
    "2. Lanefollow on a left curve  (turn-left)\n",
    "3. Lanefollow on a straight path (go-straight)\n",
    "\n",
    "For each of the above scenarios, we can attack two different scenes which correspond to different locations on CARLA's Town01 map. Therefore the six possible experiments to run are:\n",
    "\n",
    "1. turn-right, scene 0\n",
    "2. turn-right, scene 1\n",
    "3. turn-left, scene 0\n",
    "4. turn-left, scene 1\n",
    "5. go-straight, scene 0\n",
    "6. go-straight, scene 1"
   ]
  },
  {
   "cell_type": "markdown",
   "metadata": {},
   "source": [
    "## PREREQUISITE\n",
    "Before running the code in this notebook, please make sure you have started the **adversary server** and **CARLA simulator** using the scripts we have provided in this Github repository.\n",
    "\n",
    "In your terminal, run\n",
    "```bash\n",
    "sh run_adv_server.sh\n",
    "```\n",
    "In another terminal, run\n",
    "```bash\n",
    "sh run_carla.sh\n",
    "```"
   ]
  },
  {
   "cell_type": "markdown",
   "metadata": {},
   "source": [
    "### Step 1: Import Dependencies\n",
    "The `carla_env` library is a wrapper we have created on an [OpenAI Gym](https://gym.openai.com/) environment. You can learn how to create your own gym environemnt [here](https://github.com/openai/gym/blob/master/docs/creating-environments.md). [`bayes_opt`](https://github.com/fmfn/BayesianOptimization) allows us to use Bayesian Optimization as the search policy for generating new adversaries. "
   ]
  },
  {
   "cell_type": "code",
   "execution_count": 1,
   "metadata": {},
   "outputs": [
    {
     "name": "stdout",
     "output_type": "stream",
     "text": [
      "\n",
      "WARNING: The TensorFlow contrib module will not be included in TensorFlow 2.0.\n",
      "For more information, please see:\n",
      "  * https://github.com/tensorflow/community/blob/master/rfcs/20180907-contrib-sunset.md\n",
      "  * https://github.com/tensorflow/addons\n",
      "If you depend on functionality not listed there, please file an issue.\n",
      "\n"
     ]
    }
   ],
   "source": [
    "import os\n",
    "import time\n",
    "import warnings\n",
    "import numpy as np\n",
    "import pandas as pd\n",
    "from carla_env import CarlaEnv\n",
    "from matplotlib import gridspec\n",
    "import matplotlib.pyplot as plt\n",
    "from bayes_opt import UtilityFunction\n",
    "from bayes_opt import BayesianOptimization\n",
    "\n",
    "%matplotlib inline\n",
    "warnings.filterwarnings('ignore')"
   ]
  },
  {
   "cell_type": "markdown",
   "metadata": {},
   "source": [
    "### Step 2: Set up simulation parameters\n",
    "Here, we will set up the tasks, towns, scenes, gpus, and ports available. Make sure to choose the town and port that correspond to the instance of CARLA. For instance, the `run_carla.sh` file executed earlier contains:\n",
    "```bash\n",
    "sudo docker run -i -t -p 2000-2002:2000-2002 --runtime=nvidia -e NVIDIA_VISIBLE_DEVICES=0  --net=\"host\" carla-cluster /bin/bash CarlaUE4.sh /Game/Maps/Town01_nemesisA -benchmark -carla-server -fps=10 -world-port=2000 -windowed -ResX=100 -ResY=100 -carla-no-hud;\n",
    "```\n",
    "\n",
    "We can see that the world-port is set to `2000` and the town name provided is `Town01_nemesisA`. Make sure to use this port and town name in this notebook to connect to your instance of CARLA."
   ]
  },
  {
   "cell_type": "code",
   "execution_count": 2,
   "metadata": {},
   "outputs": [],
   "source": [
    "tasks  = {0 : \"turn-right\",\n",
    "         1 : \"turn-left\",\n",
    "         2 : \"go-straight\"}\n",
    "towns  = ['Town01_nemesisA']\n",
    "scenes = [0, 1]\n",
    "GPUS   = [0,1,2,3,4,5,6,7]\n",
    "ports  = [2000]"
   ]
  },
  {
   "cell_type": "markdown",
   "metadata": {},
   "source": [
    "### Step 3: Choose simulatior parameters\n",
    "Now, let's choose the parameters for our experiment. In this case, we will run the `turn-right` scenario on scene `0`. Note the port and town name match those instantiated in CARLA."
   ]
  },
  {
   "cell_type": "code",
   "execution_count": 3,
   "metadata": {},
   "outputs": [],
   "source": [
    "curr_task  = tasks[0]\n",
    "curr_town  = towns[0]\n",
    "curr_scene = scenes[0]\n",
    "curr_gpu   = GPUS[0]\n",
    "curr_port  = ports[0]"
   ]
  },
  {
   "cell_type": "markdown",
   "metadata": {},
   "source": [
    "### Step 4: Load the Imitation Learning Agent and Run Baseline Scenario\n",
    "The following call to the `CarlaEnv` class will load the imitation learning network and execute the simulation in which *no adversary has been placed on the road*. This is defined as the baseline run."
   ]
  },
  {
   "cell_type": "code",
   "execution_count": 4,
   "metadata": {},
   "outputs": [
    {
     "name": "stdout",
     "output_type": "stream",
     "text": [
      "Starting CARLA gym environment\n",
      " === Conv 0   :   5 2 32\n",
      "WARNING:tensorflow:From /usr/local/lib/python3.5/dist-packages/tensorflow/python/framework/op_def_library.py:263: colocate_with (from tensorflow.python.framework.ops) is deprecated and will be removed in a future version.\n",
      "Instructions for updating:\n",
      "Colocations handled automatically by placer.\n",
      "Dropout 0\n",
      "WARNING:tensorflow:From /tf/imitation/imitation_learning_network.py:85: calling dropout (from tensorflow.python.ops.nn_ops) with keep_prob is deprecated and will be removed in a future version.\n",
      "Instructions for updating:\n",
      "Please use `rate` instead of `keep_prob`. Rate should be set to `rate = 1 - keep_prob`.\n",
      "Tensor(\"Network/conv_block0/relu1:0\", shape=(?, 42, 98, 32), dtype=float32)\n",
      " === Conv 1   :   3 1 32\n",
      "Dropout 1\n",
      "Tensor(\"Network/conv_block1/relu2:0\", shape=(?, 40, 96, 32), dtype=float32)\n",
      " === Conv 2   :   3 2 64\n",
      "Dropout 2\n",
      "Tensor(\"Network/conv_block2/relu3:0\", shape=(?, 19, 47, 64), dtype=float32)\n",
      " === Conv 3   :   3 1 64\n",
      "Dropout 3\n",
      "Tensor(\"Network/conv_block3/relu4:0\", shape=(?, 17, 45, 64), dtype=float32)\n",
      " === Conv 4   :   3 2 128\n",
      "Dropout 4\n",
      "Tensor(\"Network/conv_block4/relu5:0\", shape=(?, 8, 22, 128), dtype=float32)\n",
      " === Conv 5   :   3 1 128\n",
      "Dropout 5\n",
      "Tensor(\"Network/conv_block5/relu6:0\", shape=(?, 6, 20, 128), dtype=float32)\n",
      " === Conv 6   :   3 1 256\n",
      "Dropout 6\n",
      "Tensor(\"Network/conv_block6/relu7:0\", shape=(?, 4, 18, 256), dtype=float32)\n",
      " === Conv 7   :   3 1 256\n",
      "Dropout 7\n",
      "Tensor(\"Network/conv_block7/relu8:0\", shape=(?, 2, 16, 256), dtype=float32)\n",
      "Tensor(\"Network/reshape:0\", shape=(?, 8192), dtype=float32)\n",
      " === FC 0   :   512\n",
      "Dropout 8\n",
      "Tensor(\"Network/fc1/relu9:0\", shape=(?, 512), dtype=float32)\n",
      " === FC 1   :   512\n",
      "Dropout 9\n",
      " === FC 2   :   128\n",
      "Dropout 10\n",
      " === FC 3   :   128\n",
      "Dropout 11\n",
      " === FC 4   :   512\n",
      "Dropout 12\n",
      " === FC 5   :   256\n",
      "Dropout 13\n",
      " === FC 6   :   256\n",
      "Dropout 14\n",
      "Tensor(\"Network/Branch_0/fc7/relu15:0\", shape=(?, 256), dtype=float32)\n",
      " === FC 8   :   256\n",
      "Dropout 15\n",
      " === FC 9   :   256\n",
      "Dropout 16\n",
      "Tensor(\"Network/Branch_1/fc10/relu17:0\", shape=(?, 256), dtype=float32)\n",
      " === FC 11   :   256\n",
      "Dropout 17\n",
      " === FC 12   :   256\n",
      "Dropout 18\n",
      "Tensor(\"Network/Branch_2/fc13/relu19:0\", shape=(?, 256), dtype=float32)\n",
      " === FC 14   :   256\n",
      "Dropout 19\n",
      " === FC 15   :   256\n",
      "Dropout 20\n",
      "Tensor(\"Network/Branch_3/fc16/relu21:0\", shape=(?, 256), dtype=float32)\n",
      " === FC 17   :   256\n",
      "Dropout 21\n",
      " === FC 18   :   256\n",
      "Dropout 22\n",
      "Tensor(\"Network/Branch_4/fc19/relu23:0\", shape=(?, 256), dtype=float32)\n",
      "Restoring from  /tf/imitation/model/model.ckpt-450000\n",
      "WARNING:tensorflow:From /usr/local/lib/python3.5/dist-packages/tensorflow/python/training/saver.py:1266: checkpoint_exists (from tensorflow.python.training.checkpoint_management) is deprecated and will be removed in a future version.\n",
      "Instructions for updating:\n",
      "Use standard file APIs to check for files with this prefix.\n",
      "INFO:tensorflow:Restoring parameters from /tf/imitation/model/model.ckpt-450000\n",
      "\n",
      "34.99825167655945 seconds to load the imitation learning network\n"
     ]
    }
   ],
   "source": [
    "now = time.time()\n",
    "os.system(\"mkdir -p _benchmarks_results\")\n",
    "env = CarlaEnv(task=curr_task, town=curr_town, scene=curr_scene, \n",
    "               port=curr_port, save_images=False, gpu_num=curr_gpu)\n",
    "print(\"\\n{} seconds to load the imitation learning network\".format(time.time() - now))"
   ]
  },
  {
   "cell_type": "markdown",
   "metadata": {},
   "source": [
    "### Step 5: Sanity Check and Plot Baseline Case\n",
    "Now that the baseline case has run, we can plot the location of the agent over the simulation run and examine the data from that run. A full list of available functions from the `env` object can be found in `carla_env.py`."
   ]
  },
  {
   "cell_type": "code",
   "execution_count": 11,
   "metadata": {},
   "outputs": [
    {
     "data": {
      "text/plain": [
       "Text(0, 0.5, 'y')"
      ]
     },
     "execution_count": 11,
     "metadata": {},
     "output_type": "execute_result"
    },
    {
     "data": {
      "image/png": "[encoded data removed]",
      "text/plain": [
       "<Figure size 432x288 with 1 Axes>"
      ]
     },
     "metadata": {
      "needs_background": "light"
     },
     "output_type": "display_data"
    }
   ],
   "source": [
    "baseSteer     = env.baseline_steer                   # get the steering angles for the baseline run\n",
    "baseX, baseY  = env.positions                        # get x,y position of the car\n",
    "MAX_LEN       = int(len(env.baseline_steer)*.8)      # set maximum number of frames to 80 percent of baseline scenario \n",
    "\n",
    "baseSteer     = baseSteer[:MAX_LEN]                  # subset steering angles to maximum number of allowed frames\n",
    "baseX, baseY  = baseX[:MAX_LEN], baseY[:MAX_LEN]     # same subsetting for x,y position of the car\n",
    "plt.scatter(-baseX, baseY)                           # plot using matplotlib library\n",
    "plt.title(\"Baseline Run for Scenario {} & Scene {}\".format(curr_task, curr_scene))\n",
    "plt.xlabel(\"x\")\n",
    "plt.ylabel(\"y\")"
   ]
  },
  {
   "cell_type": "code",
   "execution_count": 14,
   "metadata": {},
   "outputs": [
    {
     "data": {
      "text/plain": [
       "Text(0, 0.5, 'Steering Angle (radians)')"
      ]
     },
     "execution_count": 14,
     "metadata": {},
     "output_type": "execute_result"
    },
    {
     "data": {
      "image/png": "[encoded data removed]",
      "text/plain": [
       "<Figure size 432x288 with 1 Axes>"
      ]
     },
     "metadata": {
      "needs_background": "light"
     },
     "output_type": "display_data"
    }
   ],
   "source": [
    "plt.plot(baseSteer)\n",
    "plt.title(\"Baseline Steering Angles for Scenario {} & Scene {}\".format(curr_task, curr_scene))\n",
    "plt.xlabel(\"Frame #\")\n",
    "plt.ylabel(\"Steering Angle (radians)\")"
   ]
  },
  {
   "cell_type": "markdown",
   "metadata": {},
   "source": [
    "### Step 6: Set up Bayesian Optimizer\n",
    "The main objective of any optimization problem is to find $ argmax \\text{ } f(x) $. Here $x$ defines the parameters for our attacks, which in our case are two black lines painted on the road. We would like to find an adversary that maximizes the chance of causing an infraction in the form of a collision, opposite lane infraction, or offroad infraction. \n",
    "\n",
    "The bayesian optimization package we use requires us to define the function $f(x)$, which encapsulates our belief about the *successfulness* of an attack. The target function below defines $f(x)$. Notice that the target function actually runs the simulation *with that attack placed on the road* and collects these measurements back into the python environment. Finally, `target` returns the value of $f(x)$. In this example, our objective function is\n",
    "\n",
    "$$\n",
    "\\begin{align}\n",
    "||\\vec{\\Theta}_{\\delta} - \\vec{\\Theta}_{\\text{baseline}}{||}_1 \n",
    "\\end{align}\n",
    "$$\n",
    "\n",
    "where $\\vec{\\Theta}_{\\delta}$ are the steering angles collected over the simulation *with an adversary placed on the road* and $ \\vec{\\Theta}_{\\text{baseline}}$ are the steering angles collected in the baseline run above *with no adversary placed on the road*. $||(.)||_1$ denotes the L1 norm. Essentially, the above equation finds the absolute difference in the steering angles per frame and sums across all frames. By maximizing this objective function, we are maximizing a path deviation from the baseline run that is proxied through the steering angles.\n",
    "\n",
    "[Bayesian Optimization works](https://arxiv.org/pdf/1807.02811.pdf) by choosing the parameters of the target function based on information from the previous simulation runs. "
   ]
  },
  {
   "cell_type": "code",
   "execution_count": 21,
   "metadata": {},
   "outputs": [],
   "source": [
    "def target(pos1, rot1, pos2=0, rot2=0, width=10, length=200, colorR=0, colorG=0, colorB=0):\n",
    "    # specify our attack (in this case double black lines) as a dictionary to pass to the CarlaEnv object.\n",
    "    dict_params = {\n",
    "        # the first line\n",
    "        0:{\n",
    "            'pos': int(pos1),\n",
    "            'rot': rot1,\n",
    "            'width': int(width),\n",
    "            'length': int(length),\n",
    "            'color': (int(colorB), int(colorG), int(colorR), 255)\n",
    "        },\n",
    "        # the second line\n",
    "        1:{\n",
    "            'pos': int(pos2),\n",
    "            'rot': rot2,\n",
    "            'width': int(width),\n",
    "            'length': int(length),\n",
    "            'color': (0, 0, 0, 255)\n",
    "        }\n",
    "    }\n",
    "    \n",
    "    # run the simulation with that attack and fetch the data from that run\n",
    "    metrics = env.step(dict_params)\n",
    "    \n",
    "    # calculate the objective function we are trying to maximize\n",
    "    attackSteer    = metrics['steer'][:MAX_LEN]\n",
    "    \n",
    "    # if attackSteer vector is shorter than baseSteer, extend attackSteer with baseSteer.\n",
    "    # This takes care of difference in vector lengths without changing the L1 value \n",
    "    # as extended part of attackSteer will have zero difference with same part of baseSteer\n",
    "    if len(attackSteer) < len(baseSteer):\n",
    "        attackSteer = np.append(attackSteer, baseSteer[len(attackSteer):])\n",
    "\n",
    "    # return objective function value for this particular run\n",
    "    return np.sum(np.abs(attackSteer - baseSteer))\n"
   ]
  },
  {
   "cell_type": "markdown",
   "metadata": {},
   "source": [
    "### Step 7: Run the Bayesian Optimization Search Policy\n",
    "Now, we will let Bayesian Optimization choose the parameters of our attacks and calculate the objective funciton for each simulation run. We will set a budget for the maximum number of iterations we will let the optimizer run."
   ]
  },
  {
   "cell_type": "code",
   "execution_count": 24,
   "metadata": {},
   "outputs": [
    {
     "name": "stdout",
     "output_type": "stream",
     "text": [
      "|   iter    |  target   |   pos1    |   pos2    |   rot1    |   rot2    |\n",
      "-------------------------------------------------------------------------\n",
      "| \u001b[0m 1       \u001b[0m | \u001b[0m 2.085   \u001b[0m | \u001b[0m 71.16   \u001b[0m | \u001b[0m 190.1   \u001b[0m | \u001b[0m 131.0   \u001b[0m | \u001b[0m 107.2   \u001b[0m |\n",
      "| \u001b[95m 2       \u001b[0m | \u001b[95m 3.835   \u001b[0m | \u001b[95m 29.64   \u001b[0m | \u001b[95m 31.2    \u001b[0m | \u001b[95m 10.4    \u001b[0m | \u001b[95m 155.0   \u001b[0m |\n",
      "| \u001b[0m 3       \u001b[0m | \u001b[0m 3.525   \u001b[0m | \u001b[0m 35.37   \u001b[0m | \u001b[0m 30.13   \u001b[0m | \u001b[0m 14.0    \u001b[0m | \u001b[0m 159.1   \u001b[0m |\n",
      "| \u001b[0m 4       \u001b[0m | \u001b[0m 1.736   \u001b[0m | \u001b[0m 12.33   \u001b[0m | \u001b[0m 34.42   \u001b[0m | \u001b[0m 0.0     \u001b[0m | \u001b[0m 142.7   \u001b[0m |\n",
      "| \u001b[0m 5       \u001b[0m | \u001b[0m 3.06    \u001b[0m | \u001b[0m 33.41   \u001b[0m | \u001b[0m 30.54   \u001b[0m | \u001b[0m 3.44    \u001b[0m | \u001b[0m 157.7   \u001b[0m |\n",
      "| \u001b[0m 6       \u001b[0m | \u001b[0m 3.448   \u001b[0m | \u001b[0m 24.9    \u001b[0m | \u001b[0m 23.64   \u001b[0m | \u001b[0m 12.87   \u001b[0m | \u001b[0m 156.1   \u001b[0m |\n",
      "| \u001b[95m 7       \u001b[0m | \u001b[95m 4.123   \u001b[0m | \u001b[95m 28.88   \u001b[0m | \u001b[95m 35.31   \u001b[0m | \u001b[95m 17.92   \u001b[0m | \u001b[95m 152.4   \u001b[0m |\n",
      "| \u001b[95m 8       \u001b[0m | \u001b[95m 4.223   \u001b[0m | \u001b[95m 35.35   \u001b[0m | \u001b[95m 32.75   \u001b[0m | \u001b[95m 19.31   \u001b[0m | \u001b[95m 143.3   \u001b[0m |\n",
      "| \u001b[95m 9       \u001b[0m | \u001b[95m 5.612   \u001b[0m | \u001b[95m 38.72   \u001b[0m | \u001b[95m 44.61   \u001b[0m | \u001b[95m 24.92   \u001b[0m | \u001b[95m 142.2   \u001b[0m |\n",
      "| \u001b[0m 10      \u001b[0m | \u001b[0m 4.813   \u001b[0m | \u001b[0m 40.75   \u001b[0m | \u001b[0m 49.35   \u001b[0m | \u001b[0m 27.76   \u001b[0m | \u001b[0m 141.0   \u001b[0m |\n",
      "| \u001b[0m 11      \u001b[0m | \u001b[0m 5.468   \u001b[0m | \u001b[0m 37.68   \u001b[0m | \u001b[0m 45.23   \u001b[0m | \u001b[0m 21.04   \u001b[0m | \u001b[0m 143.9   \u001b[0m |\n",
      "| \u001b[0m 12      \u001b[0m | \u001b[0m 5.384   \u001b[0m | \u001b[0m 34.29   \u001b[0m | \u001b[0m 43.74   \u001b[0m | \u001b[0m 25.5    \u001b[0m | \u001b[0m 141.9   \u001b[0m |\n",
      "=========================================================================\n"
     ]
    }
   ],
   "source": [
    "# define the bounds for our attack parameters. \n",
    "# in our case, the position of both lines can start between pixel 0 and pixel 190.\n",
    "# the rotation of each line can over pi radians.\n",
    "controls = {'pos1': (0, 190), \n",
    "            'rot1': (0, 179),\n",
    "            'pos2': (0, 200), \n",
    "            'rot2': (0, 179)}\n",
    "\n",
    "random_points        = 200  # these runs are used for hyperparameter tuning of the underlying Gaussian Process for BayesOpt\n",
    "search_points        = 800  # number of points to search using bayesian optimization\n",
    "acquisition_function = 'ei' # or 'ucb' specifies the acquisition function of the bayesian optimizer.\n",
    "\n",
    "# instantiate the bayesian optimizer\n",
    "optimizer = BayesianOptimization(target, controls, random_state=42)\n",
    "optimizer.maximize(init_points=random_points, n_iter=search_points, acq=acquisition_function)"
   ]
  },
  {
   "cell_type": "markdown",
   "metadata": {},
   "source": [
    "### Step 8: Analysis\n",
    "The output of `optimizer.maximize` shows the value of the objective function (the column target) with the corresponding parameters of the attack. The output of each run is stored in the directory `_benchmarks_results/Town01_nemesisA`. Refer to the `post-run-analysis.ipynb` notebook to see how to interact with this data."
   ]
  }
 ],
 "metadata": {
  "kernelspec": {
   "display_name": "Python 3",
   "language": "python",
   "name": "python3"
  },
  "language_info": {
   "codemirror_mode": {
    "name": "ipython",
    "version": 3
   },
   "file_extension": ".py",
   "mimetype": "text/x-python",
   "name": "python",
   "nbconvert_exporter": "python",
   "pygments_lexer": "ipython3",
   "version": "3.5.2"
  }
 },
 "nbformat": 4,
 "nbformat_minor": 2
}
